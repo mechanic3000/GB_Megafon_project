{
 "cells": [
  {
   "cell_type": "code",
   "execution_count": 62,
   "id": "5b337fba",
   "metadata": {},
   "outputs": [],
   "source": [
    "import warnings\n",
    "warnings.simplefilter('ignore')"
   ]
  },
  {
   "cell_type": "code",
   "execution_count": 173,
   "id": "b930efc3",
   "metadata": {},
   "outputs": [],
   "source": [
    "import pandas as pd\n",
    "import numpy as np\n",
    "\n",
    "from matplotlib import pyplot as plt\n",
    "\n",
    "from sklearn.linear_model import LogisticRegression\n",
    "from sklearn.ensemble import RandomForestClassifier\n",
    "from sklearn.ensemble import GradientBoostingClassifier\n",
    "\n",
    "from sklearn.model_selection import train_test_split, GridSearchCV, KFold\n",
    "from sklearn.feature_selection import SelectFromModel\n",
    "from sklearn.base import BaseEstimator, TransformerMixin\n",
    "from sklearn.pipeline import Pipeline, FeatureUnion, make_pipeline\n",
    "from sklearn.preprocessing import StandardScaler, OneHotEncoder\n",
    "from sklearn.impute import SimpleImputer\n",
    "from sklearn.decomposition import PCA\n",
    "\n",
    "from imblearn.under_sampling import RandomUnderSampler\n",
    "\n",
    "from sklearn.metrics import classification_report, precision_recall_curve, roc_curve, auc, confusion_matrix\n",
    "\n",
    "\n",
    "import pickle\n",
    "import itertools\n"
   ]
  },
  {
   "cell_type": "code",
   "execution_count": 2,
   "id": "64f276ce",
   "metadata": {},
   "outputs": [],
   "source": [
    "RANDOM_STATE = 42"
   ]
  },
  {
   "cell_type": "markdown",
   "id": "b70ad475",
   "metadata": {},
   "source": [
    "#### Загружаем подготовленные ранее данные для модели"
   ]
  },
  {
   "cell_type": "code",
   "execution_count": 3,
   "id": "b26f7d6b",
   "metadata": {},
   "outputs": [],
   "source": [
    "with open('train_df.pkl', 'rb') as f:\n",
    "    train_df = pickle.load(f)"
   ]
  },
  {
   "cell_type": "code",
   "execution_count": 4,
   "id": "7aaba685",
   "metadata": {},
   "outputs": [
    {
     "data": {
      "text/html": [
       "<div>\n",
       "<style scoped>\n",
       "    .dataframe tbody tr th:only-of-type {\n",
       "        vertical-align: middle;\n",
       "    }\n",
       "\n",
       "    .dataframe tbody tr th {\n",
       "        vertical-align: top;\n",
       "    }\n",
       "\n",
       "    .dataframe thead th {\n",
       "        text-align: right;\n",
       "    }\n",
       "</style>\n",
       "<table border=\"1\" class=\"dataframe\">\n",
       "  <thead>\n",
       "    <tr style=\"text-align: right;\">\n",
       "      <th></th>\n",
       "      <th>vas_id</th>\n",
       "      <th>target</th>\n",
       "      <th>0</th>\n",
       "      <th>1</th>\n",
       "      <th>2</th>\n",
       "      <th>3</th>\n",
       "      <th>4</th>\n",
       "      <th>5</th>\n",
       "      <th>6</th>\n",
       "      <th>7</th>\n",
       "      <th>...</th>\n",
       "      <th>243</th>\n",
       "      <th>244</th>\n",
       "      <th>245</th>\n",
       "      <th>246</th>\n",
       "      <th>247</th>\n",
       "      <th>248</th>\n",
       "      <th>249</th>\n",
       "      <th>250</th>\n",
       "      <th>251</th>\n",
       "      <th>252</th>\n",
       "    </tr>\n",
       "  </thead>\n",
       "  <tbody>\n",
       "    <tr>\n",
       "      <th>0</th>\n",
       "      <td>2.0</td>\n",
       "      <td>0.0</td>\n",
       "      <td>-96.799973</td>\n",
       "      <td>229.530884</td>\n",
       "      <td>-110.740784</td>\n",
       "      <td>305.723206</td>\n",
       "      <td>-116.158249</td>\n",
       "      <td>284.618225</td>\n",
       "      <td>-16.086180</td>\n",
       "      <td>-65.076096</td>\n",
       "      <td>...</td>\n",
       "      <td>2300.626221</td>\n",
       "      <td>1492.229248</td>\n",
       "      <td>-21.996269</td>\n",
       "      <td>-35.630447</td>\n",
       "      <td>368.252289</td>\n",
       "      <td>11.167111</td>\n",
       "      <td>7.305572</td>\n",
       "      <td>-12.175933</td>\n",
       "      <td>-0.45614</td>\n",
       "      <td>0.0</td>\n",
       "    </tr>\n",
       "    <tr>\n",
       "      <th>1</th>\n",
       "      <td>1.0</td>\n",
       "      <td>0.0</td>\n",
       "      <td>-19.599970</td>\n",
       "      <td>-177.419113</td>\n",
       "      <td>-25.910786</td>\n",
       "      <td>-206.286804</td>\n",
       "      <td>-31.328247</td>\n",
       "      <td>-227.391785</td>\n",
       "      <td>35.693821</td>\n",
       "      <td>102.133904</td>\n",
       "      <td>...</td>\n",
       "      <td>-977.373840</td>\n",
       "      <td>-613.770813</td>\n",
       "      <td>-25.996269</td>\n",
       "      <td>-37.630447</td>\n",
       "      <td>-299.747711</td>\n",
       "      <td>-25.832888</td>\n",
       "      <td>-0.694429</td>\n",
       "      <td>-12.175933</td>\n",
       "      <td>-0.45614</td>\n",
       "      <td>0.0</td>\n",
       "    </tr>\n",
       "    <tr>\n",
       "      <th>2</th>\n",
       "      <td>1.0</td>\n",
       "      <td>0.0</td>\n",
       "      <td>-96.799973</td>\n",
       "      <td>-336.159119</td>\n",
       "      <td>-110.740784</td>\n",
       "      <td>-329.456787</td>\n",
       "      <td>-116.158249</td>\n",
       "      <td>-350.561798</td>\n",
       "      <td>-16.086180</td>\n",
       "      <td>-37.116096</td>\n",
       "      <td>...</td>\n",
       "      <td>-977.373840</td>\n",
       "      <td>-613.770813</td>\n",
       "      <td>-25.996269</td>\n",
       "      <td>-37.630447</td>\n",
       "      <td>-306.747711</td>\n",
       "      <td>-25.832888</td>\n",
       "      <td>-0.694429</td>\n",
       "      <td>-12.175933</td>\n",
       "      <td>-0.45614</td>\n",
       "      <td>0.0</td>\n",
       "    </tr>\n",
       "    <tr>\n",
       "      <th>3</th>\n",
       "      <td>2.0</td>\n",
       "      <td>0.0</td>\n",
       "      <td>155.310028</td>\n",
       "      <td>-92.509109</td>\n",
       "      <td>158.309219</td>\n",
       "      <td>-95.126801</td>\n",
       "      <td>152.891754</td>\n",
       "      <td>-116.231789</td>\n",
       "      <td>-16.086180</td>\n",
       "      <td>-65.076096</td>\n",
       "      <td>...</td>\n",
       "      <td>-977.373840</td>\n",
       "      <td>-613.770813</td>\n",
       "      <td>-25.996269</td>\n",
       "      <td>-37.630447</td>\n",
       "      <td>-291.747711</td>\n",
       "      <td>-25.832888</td>\n",
       "      <td>-0.694429</td>\n",
       "      <td>-12.175933</td>\n",
       "      <td>-0.45614</td>\n",
       "      <td>0.0</td>\n",
       "    </tr>\n",
       "    <tr>\n",
       "      <th>4</th>\n",
       "      <td>1.0</td>\n",
       "      <td>0.0</td>\n",
       "      <td>-19.599970</td>\n",
       "      <td>-177.419113</td>\n",
       "      <td>-25.910786</td>\n",
       "      <td>-206.286804</td>\n",
       "      <td>-31.328247</td>\n",
       "      <td>-227.391785</td>\n",
       "      <td>35.693821</td>\n",
       "      <td>102.133904</td>\n",
       "      <td>...</td>\n",
       "      <td>-977.373840</td>\n",
       "      <td>-613.770813</td>\n",
       "      <td>-25.996269</td>\n",
       "      <td>-37.630447</td>\n",
       "      <td>-299.747711</td>\n",
       "      <td>-25.832888</td>\n",
       "      <td>-0.694429</td>\n",
       "      <td>-12.175933</td>\n",
       "      <td>-0.45614</td>\n",
       "      <td>0.0</td>\n",
       "    </tr>\n",
       "  </tbody>\n",
       "</table>\n",
       "<p>5 rows × 255 columns</p>\n",
       "</div>"
      ],
      "text/plain": [
       "   vas_id  target           0           1           2           3           4  \\\n",
       "0     2.0     0.0  -96.799973  229.530884 -110.740784  305.723206 -116.158249   \n",
       "1     1.0     0.0  -19.599970 -177.419113  -25.910786 -206.286804  -31.328247   \n",
       "2     1.0     0.0  -96.799973 -336.159119 -110.740784 -329.456787 -116.158249   \n",
       "3     2.0     0.0  155.310028  -92.509109  158.309219  -95.126801  152.891754   \n",
       "4     1.0     0.0  -19.599970 -177.419113  -25.910786 -206.286804  -31.328247   \n",
       "\n",
       "            5          6           7  ...          243          244  \\\n",
       "0  284.618225 -16.086180  -65.076096  ...  2300.626221  1492.229248   \n",
       "1 -227.391785  35.693821  102.133904  ...  -977.373840  -613.770813   \n",
       "2 -350.561798 -16.086180  -37.116096  ...  -977.373840  -613.770813   \n",
       "3 -116.231789 -16.086180  -65.076096  ...  -977.373840  -613.770813   \n",
       "4 -227.391785  35.693821  102.133904  ...  -977.373840  -613.770813   \n",
       "\n",
       "         245        246         247        248       249        250      251  \\\n",
       "0 -21.996269 -35.630447  368.252289  11.167111  7.305572 -12.175933 -0.45614   \n",
       "1 -25.996269 -37.630447 -299.747711 -25.832888 -0.694429 -12.175933 -0.45614   \n",
       "2 -25.996269 -37.630447 -306.747711 -25.832888 -0.694429 -12.175933 -0.45614   \n",
       "3 -25.996269 -37.630447 -291.747711 -25.832888 -0.694429 -12.175933 -0.45614   \n",
       "4 -25.996269 -37.630447 -299.747711 -25.832888 -0.694429 -12.175933 -0.45614   \n",
       "\n",
       "   252  \n",
       "0  0.0  \n",
       "1  0.0  \n",
       "2  0.0  \n",
       "3  0.0  \n",
       "4  0.0  \n",
       "\n",
       "[5 rows x 255 columns]"
      ]
     },
     "execution_count": 4,
     "metadata": {},
     "output_type": "execute_result"
    }
   ],
   "source": [
    "train_df.head(5)"
   ]
  },
  {
   "cell_type": "markdown",
   "id": "d35a9928",
   "metadata": {},
   "source": [
    "#### Подготовка данных"
   ]
  },
  {
   "cell_type": "markdown",
   "id": "d8ce738f",
   "metadata": {},
   "source": [
    "Разберем признаки по категориям"
   ]
  },
  {
   "cell_type": "code",
   "execution_count": 23,
   "id": "a4f23fae",
   "metadata": {},
   "outputs": [],
   "source": [
    "features_stack = set(train_df.drop('target', axis=1).columns.to_list())"
   ]
  },
  {
   "cell_type": "code",
   "execution_count": 24,
   "id": "a0c936c1",
   "metadata": {},
   "outputs": [],
   "source": [
    "f_nunique = train_df.drop('target', axis=1).nunique(dropna=False)"
   ]
  },
  {
   "cell_type": "code",
   "execution_count": 25,
   "id": "8b1dcbaf",
   "metadata": {},
   "outputs": [
    {
     "data": {
      "text/plain": [
       "(254, 254)"
      ]
     },
     "execution_count": 25,
     "metadata": {},
     "output_type": "execute_result"
    }
   ],
   "source": [
    "len(features_stack), len(f_nunique)"
   ]
  },
  {
   "cell_type": "markdown",
   "id": "d392dd38",
   "metadata": {},
   "source": [
    "Константы"
   ]
  },
  {
   "cell_type": "code",
   "execution_count": 26,
   "id": "7315b7ee",
   "metadata": {},
   "outputs": [
    {
     "data": {
      "text/plain": [
       "(249, 5)"
      ]
     },
     "execution_count": 26,
     "metadata": {},
     "output_type": "execute_result"
    }
   ],
   "source": [
    "const_feat = set(f_nunique[f_nunique == 1].index.to_list())\n",
    "features_stack -= const_feat\n",
    "len(features_stack), len(const_feat)"
   ]
  },
  {
   "cell_type": "markdown",
   "id": "51a5ed2a",
   "metadata": {},
   "source": [
    "Бинарные"
   ]
  },
  {
   "cell_type": "code",
   "execution_count": 27,
   "id": "ead0ca55",
   "metadata": {},
   "outputs": [],
   "source": [
    "bin_feat = set(train_df.loc[:, features_stack].columns[(\n",
    "                (train_df.loc[:, features_stack].max() == 1) &\\\n",
    "                (train_df.loc[:, features_stack].min() == 0) &\\\n",
    "                (train_df.loc[:, features_stack].isnull().sum() == 0))])"
   ]
  },
  {
   "cell_type": "code",
   "execution_count": 28,
   "id": "3527874e",
   "metadata": {},
   "outputs": [
    {
     "data": {
      "text/plain": [
       "(249, 0)"
      ]
     },
     "execution_count": 28,
     "metadata": {},
     "output_type": "execute_result"
    }
   ],
   "source": [
    "features_stack -= bin_feat\n",
    "len(features_stack), len(bin_feat)"
   ]
  },
  {
   "cell_type": "markdown",
   "id": "89a04a27",
   "metadata": {},
   "source": [
    "Категориальные"
   ]
  },
  {
   "cell_type": "code",
   "execution_count": 29,
   "id": "b10439c4",
   "metadata": {},
   "outputs": [
    {
     "data": {
      "text/plain": [
       "(218, 31)"
      ]
     },
     "execution_count": 29,
     "metadata": {},
     "output_type": "execute_result"
    }
   ],
   "source": [
    "cat_feat = set(f_nunique.loc[features_stack][f_nunique[features_stack] <= 10].index.to_list())\n",
    "features_stack -= cat_feat\n",
    "len(features_stack), len(cat_feat)"
   ]
  },
  {
   "cell_type": "markdown",
   "id": "945ed904",
   "metadata": {},
   "source": [
    "Вещественные "
   ]
  },
  {
   "cell_type": "code",
   "execution_count": 30,
   "id": "b38a4a44",
   "metadata": {},
   "outputs": [
    {
     "data": {
      "text/plain": [
       "(0, 218)"
      ]
     },
     "execution_count": 30,
     "metadata": {},
     "output_type": "execute_result"
    }
   ],
   "source": [
    "num_feat = (train_df[features_stack].fillna(0).astype('int').sum() - \\\n",
    "                       train_df[features_stack].fillna(0).sum()).abs()\n",
    "num_feat = set(num_feat.index.to_list())\n",
    "features_stack -= num_feat\n",
    "len(features_stack), len(num_feat)"
   ]
  },
  {
   "cell_type": "code",
   "execution_count": 65,
   "id": "d45e9615",
   "metadata": {},
   "outputs": [],
   "source": [
    "const_feat = list(const_feat)\n",
    "bin_feat = list(bin_feat)\n",
    "cat_feat = list(cat_feat)\n",
    "num_feat = list(num_feat)"
   ]
  },
  {
   "cell_type": "code",
   "execution_count": 95,
   "id": "87ece8f4",
   "metadata": {},
   "outputs": [],
   "source": [
    "all_feat = const_feat + bin_feat + cat_feat + num_feat"
   ]
  },
  {
   "cell_type": "markdown",
   "id": "bf184197",
   "metadata": {},
   "source": [
    "#### pipeline"
   ]
  },
  {
   "cell_type": "code",
   "execution_count": 5,
   "id": "436dd337",
   "metadata": {},
   "outputs": [],
   "source": [
    "X_train, X_val, y_train, y_val = train_test_split(train_df.drop(columns='target', axis=1), train_df['target'],\\\n",
    "                                                 test_size=0.3, random_state=RANDOM_STATE)"
   ]
  },
  {
   "cell_type": "code",
   "execution_count": 6,
   "id": "9243bf44",
   "metadata": {},
   "outputs": [
    {
     "data": {
      "text/plain": [
       "0.0    540089\n",
       "1.0     42068\n",
       "Name: target, dtype: int64"
      ]
     },
     "execution_count": 6,
     "metadata": {},
     "output_type": "execute_result"
    }
   ],
   "source": [
    "y_train.value_counts()"
   ]
  },
  {
   "cell_type": "markdown",
   "id": "e64d7edb",
   "metadata": {},
   "source": [
    "Балансировка данных"
   ]
  },
  {
   "cell_type": "code",
   "execution_count": 110,
   "id": "c2351370",
   "metadata": {},
   "outputs": [
    {
     "name": "stdout",
     "output_type": "stream",
     "text": [
      "Train\n",
      "0.0    0.5\n",
      "1.0    0.5\n",
      "Name: target, dtype: float64\n",
      "\n",
      "Test\n",
      "0.0    0.927382\n",
      "1.0    0.072618\n",
      "Name: target, dtype: float64\n"
     ]
    }
   ],
   "source": [
    "rus = RandomUnderSampler(random_state=RANDOM_STATE)\n",
    "X_train, y_train = rus.fit_resample(X_train, y_train)\n",
    "\n",
    "print('Train')\n",
    "print(y_train.value_counts() / y_train.shape[0])\n",
    "print()\n",
    "print('Test')\n",
    "print(y_val.value_counts() / y_val.shape[0])"
   ]
  },
  {
   "cell_type": "code",
   "execution_count": 37,
   "id": "9b2b3a56",
   "metadata": {},
   "outputs": [],
   "source": [
    "class ColumnSelector(BaseEstimator, TransformerMixin):\n",
    "    def __init__(self, columns):\n",
    "        self.columns = columns\n",
    "\n",
    "    def fit(self, X, y=None):\n",
    "        return self\n",
    "    \n",
    "    def transform(self, X):\n",
    "        assert isinstance(X, pd.DataFrame)\n",
    "\n",
    "        try:\n",
    "            return X[self.columns]\n",
    "        except KeyError:\n",
    "            cols_error = list(set(self.columns) - set(X.columns))\n",
    "            raise KeyError(f'DataFrame не содержит следующие колонки: {cols_error}')"
   ]
  },
  {
   "cell_type": "code",
   "execution_count": 137,
   "id": "365c7f61",
   "metadata": {},
   "outputs": [],
   "source": [
    "f_prep_pipeline = make_pipeline(\n",
    "    ColumnSelector(columns=all_feat),\n",
    "    FeatureUnion(transformer_list=[\n",
    "        ('numeric_features', make_pipeline(\n",
    "            ColumnSelector(num_feat),\n",
    "            SimpleImputer(strategy=\"mean\"),\n",
    "            StandardScaler(),\n",
    "            PCA()\n",
    "        )),\n",
    "        ('categorical_features', make_pipeline(\n",
    "            ColumnSelector(cat_feat),\n",
    "            SimpleImputer(strategy='most_frequent'),\n",
    "            OneHotEncoder(handle_unknown='ignore')\n",
    "        )),\n",
    "        ('boolean_features', make_pipeline(\n",
    "            ColumnSelector(bin_feat)\n",
    "        ))\n",
    "    ])\n",
    ")"
   ]
  },
  {
   "cell_type": "code",
   "execution_count": 140,
   "id": "6a395e9d",
   "metadata": {},
   "outputs": [
    {
     "data": {
      "text/html": [
       "<style>#sk-container-id-13 {color: black;background-color: white;}#sk-container-id-13 pre{padding: 0;}#sk-container-id-13 div.sk-toggleable {background-color: white;}#sk-container-id-13 label.sk-toggleable__label {cursor: pointer;display: block;width: 100%;margin-bottom: 0;padding: 0.3em;box-sizing: border-box;text-align: center;}#sk-container-id-13 label.sk-toggleable__label-arrow:before {content: \"▸\";float: left;margin-right: 0.25em;color: #696969;}#sk-container-id-13 label.sk-toggleable__label-arrow:hover:before {color: black;}#sk-container-id-13 div.sk-estimator:hover label.sk-toggleable__label-arrow:before {color: black;}#sk-container-id-13 div.sk-toggleable__content {max-height: 0;max-width: 0;overflow: hidden;text-align: left;background-color: #f0f8ff;}#sk-container-id-13 div.sk-toggleable__content pre {margin: 0.2em;color: black;border-radius: 0.25em;background-color: #f0f8ff;}#sk-container-id-13 input.sk-toggleable__control:checked~div.sk-toggleable__content {max-height: 200px;max-width: 100%;overflow: auto;}#sk-container-id-13 input.sk-toggleable__control:checked~label.sk-toggleable__label-arrow:before {content: \"▾\";}#sk-container-id-13 div.sk-estimator input.sk-toggleable__control:checked~label.sk-toggleable__label {background-color: #d4ebff;}#sk-container-id-13 div.sk-label input.sk-toggleable__control:checked~label.sk-toggleable__label {background-color: #d4ebff;}#sk-container-id-13 input.sk-hidden--visually {border: 0;clip: rect(1px 1px 1px 1px);clip: rect(1px, 1px, 1px, 1px);height: 1px;margin: -1px;overflow: hidden;padding: 0;position: absolute;width: 1px;}#sk-container-id-13 div.sk-estimator {font-family: monospace;background-color: #f0f8ff;border: 1px dotted black;border-radius: 0.25em;box-sizing: border-box;margin-bottom: 0.5em;}#sk-container-id-13 div.sk-estimator:hover {background-color: #d4ebff;}#sk-container-id-13 div.sk-parallel-item::after {content: \"\";width: 100%;border-bottom: 1px solid gray;flex-grow: 1;}#sk-container-id-13 div.sk-label:hover label.sk-toggleable__label {background-color: #d4ebff;}#sk-container-id-13 div.sk-serial::before {content: \"\";position: absolute;border-left: 1px solid gray;box-sizing: border-box;top: 0;bottom: 0;left: 50%;z-index: 0;}#sk-container-id-13 div.sk-serial {display: flex;flex-direction: column;align-items: center;background-color: white;padding-right: 0.2em;padding-left: 0.2em;position: relative;}#sk-container-id-13 div.sk-item {position: relative;z-index: 1;}#sk-container-id-13 div.sk-parallel {display: flex;align-items: stretch;justify-content: center;background-color: white;position: relative;}#sk-container-id-13 div.sk-item::before, #sk-container-id-13 div.sk-parallel-item::before {content: \"\";position: absolute;border-left: 1px solid gray;box-sizing: border-box;top: 0;bottom: 0;left: 50%;z-index: -1;}#sk-container-id-13 div.sk-parallel-item {display: flex;flex-direction: column;z-index: 1;position: relative;background-color: white;}#sk-container-id-13 div.sk-parallel-item:first-child::after {align-self: flex-end;width: 50%;}#sk-container-id-13 div.sk-parallel-item:last-child::after {align-self: flex-start;width: 50%;}#sk-container-id-13 div.sk-parallel-item:only-child::after {width: 0;}#sk-container-id-13 div.sk-dashed-wrapped {border: 1px dashed gray;margin: 0 0.4em 0.5em 0.4em;box-sizing: border-box;padding-bottom: 0.4em;background-color: white;}#sk-container-id-13 div.sk-label label {font-family: monospace;font-weight: bold;display: inline-block;line-height: 1.2em;}#sk-container-id-13 div.sk-label-container {text-align: center;}#sk-container-id-13 div.sk-container {/* jupyter's `normalize.less` sets `[hidden] { display: none; }` but bootstrap.min.css set `[hidden] { display: none !important; }` so we also need the `!important` here to be able to override the default hidden behavior on the sphinx rendered scikit-learn.org. See: https://github.com/scikit-learn/scikit-learn/issues/21755 */display: inline-block !important;position: relative;}#sk-container-id-13 div.sk-text-repr-fallback {display: none;}</style><div id=\"sk-container-id-13\" class=\"sk-top-container\"><div class=\"sk-text-repr-fallback\"><pre>Pipeline(steps=[(&#x27;columnselector&#x27;,\n",
       "                 ColumnSelector(columns=[&#x27;81&#x27;, &#x27;203&#x27;, &#x27;75&#x27;, &#x27;139&#x27;, &#x27;85&#x27;, &#x27;27&#x27;,\n",
       "                                         &#x27;192&#x27;, &#x27;204&#x27;, &#x27;26&#x27;, &#x27;196&#x27;, &#x27;31&#x27;, &#x27;132&#x27;,\n",
       "                                         &#x27;218&#x27;, &#x27;197&#x27;, &#x27;33&#x27;, &#x27;206&#x27;, &#x27;29&#x27;, &#x27;131&#x27;,\n",
       "                                         &#x27;216&#x27;, &#x27;95&#x27;, &#x27;198&#x27;, &#x27;15&#x27;, &#x27;154&#x27;, &#x27;30&#x27;,\n",
       "                                         &#x27;195&#x27;, &#x27;201&#x27;, &#x27;23&#x27;, &#x27;199&#x27;, &#x27;205&#x27;, &#x27;32&#x27;, ...])),\n",
       "                (&#x27;featureunion&#x27;,\n",
       "                 FeatureUnion(transformer_list=[(&#x27;numeric_features&#x27;,\n",
       "                                                 Pipeline(steps=[(&#x27;columnselector&#x27;,\n",
       "                                                                  ColumnSelector(co...\n",
       "                                                                                          &#x27;132&#x27;,\n",
       "                                                                                          &#x27;218&#x27;,\n",
       "                                                                                          &#x27;197&#x27;,\n",
       "                                                                                          &#x27;33&#x27;,\n",
       "                                                                                          &#x27;206&#x27;,\n",
       "                                                                                          &#x27;29&#x27;,\n",
       "                                                                                          &#x27;131&#x27;,\n",
       "                                                                                          &#x27;216&#x27;,\n",
       "                                                                                          &#x27;95&#x27;,\n",
       "                                                                                          &#x27;198&#x27;,\n",
       "                                                                                          &#x27;15&#x27;,\n",
       "                                                                                          &#x27;154&#x27;,\n",
       "                                                                                          &#x27;30&#x27;,\n",
       "                                                                                          &#x27;195&#x27;,\n",
       "                                                                                          &#x27;201&#x27;,\n",
       "                                                                                          &#x27;23&#x27;,\n",
       "                                                                                          &#x27;199&#x27;,\n",
       "                                                                                          &#x27;205&#x27;,\n",
       "                                                                                          &#x27;32&#x27;,\n",
       "                                                                                          &#x27;57&#x27;,\n",
       "                                                                                          &#x27;202&#x27;,\n",
       "                                                                                          &#x27;194&#x27;,\n",
       "                                                                                          &#x27;vas_id&#x27;,\n",
       "                                                                                          &#x27;24&#x27;, ...])),\n",
       "                                                                 (&#x27;simpleimputer&#x27;,\n",
       "                                                                  SimpleImputer(strategy=&#x27;most_frequent&#x27;)),\n",
       "                                                                 (&#x27;onehotencoder&#x27;,\n",
       "                                                                  OneHotEncoder(handle_unknown=&#x27;ignore&#x27;))])),\n",
       "                                                (&#x27;boolean_features&#x27;,\n",
       "                                                 Pipeline(steps=[(&#x27;columnselector&#x27;,\n",
       "                                                                  ColumnSelector(columns=[]))]))]))])</pre><b>In a Jupyter environment, please rerun this cell to show the HTML representation or trust the notebook. <br />On GitHub, the HTML representation is unable to render, please try loading this page with nbviewer.org.</b></div><div class=\"sk-container\" hidden><div class=\"sk-item sk-dashed-wrapped\"><div class=\"sk-label-container\"><div class=\"sk-label sk-toggleable\"><input class=\"sk-toggleable__control sk-hidden--visually\" id=\"sk-estimator-id-1092\" type=\"checkbox\" ><label for=\"sk-estimator-id-1092\" class=\"sk-toggleable__label sk-toggleable__label-arrow\">Pipeline</label><div class=\"sk-toggleable__content\"><pre>Pipeline(steps=[(&#x27;columnselector&#x27;,\n",
       "                 ColumnSelector(columns=[&#x27;81&#x27;, &#x27;203&#x27;, &#x27;75&#x27;, &#x27;139&#x27;, &#x27;85&#x27;, &#x27;27&#x27;,\n",
       "                                         &#x27;192&#x27;, &#x27;204&#x27;, &#x27;26&#x27;, &#x27;196&#x27;, &#x27;31&#x27;, &#x27;132&#x27;,\n",
       "                                         &#x27;218&#x27;, &#x27;197&#x27;, &#x27;33&#x27;, &#x27;206&#x27;, &#x27;29&#x27;, &#x27;131&#x27;,\n",
       "                                         &#x27;216&#x27;, &#x27;95&#x27;, &#x27;198&#x27;, &#x27;15&#x27;, &#x27;154&#x27;, &#x27;30&#x27;,\n",
       "                                         &#x27;195&#x27;, &#x27;201&#x27;, &#x27;23&#x27;, &#x27;199&#x27;, &#x27;205&#x27;, &#x27;32&#x27;, ...])),\n",
       "                (&#x27;featureunion&#x27;,\n",
       "                 FeatureUnion(transformer_list=[(&#x27;numeric_features&#x27;,\n",
       "                                                 Pipeline(steps=[(&#x27;columnselector&#x27;,\n",
       "                                                                  ColumnSelector(co...\n",
       "                                                                                          &#x27;132&#x27;,\n",
       "                                                                                          &#x27;218&#x27;,\n",
       "                                                                                          &#x27;197&#x27;,\n",
       "                                                                                          &#x27;33&#x27;,\n",
       "                                                                                          &#x27;206&#x27;,\n",
       "                                                                                          &#x27;29&#x27;,\n",
       "                                                                                          &#x27;131&#x27;,\n",
       "                                                                                          &#x27;216&#x27;,\n",
       "                                                                                          &#x27;95&#x27;,\n",
       "                                                                                          &#x27;198&#x27;,\n",
       "                                                                                          &#x27;15&#x27;,\n",
       "                                                                                          &#x27;154&#x27;,\n",
       "                                                                                          &#x27;30&#x27;,\n",
       "                                                                                          &#x27;195&#x27;,\n",
       "                                                                                          &#x27;201&#x27;,\n",
       "                                                                                          &#x27;23&#x27;,\n",
       "                                                                                          &#x27;199&#x27;,\n",
       "                                                                                          &#x27;205&#x27;,\n",
       "                                                                                          &#x27;32&#x27;,\n",
       "                                                                                          &#x27;57&#x27;,\n",
       "                                                                                          &#x27;202&#x27;,\n",
       "                                                                                          &#x27;194&#x27;,\n",
       "                                                                                          &#x27;vas_id&#x27;,\n",
       "                                                                                          &#x27;24&#x27;, ...])),\n",
       "                                                                 (&#x27;simpleimputer&#x27;,\n",
       "                                                                  SimpleImputer(strategy=&#x27;most_frequent&#x27;)),\n",
       "                                                                 (&#x27;onehotencoder&#x27;,\n",
       "                                                                  OneHotEncoder(handle_unknown=&#x27;ignore&#x27;))])),\n",
       "                                                (&#x27;boolean_features&#x27;,\n",
       "                                                 Pipeline(steps=[(&#x27;columnselector&#x27;,\n",
       "                                                                  ColumnSelector(columns=[]))]))]))])</pre></div></div></div><div class=\"sk-serial\"><div class=\"sk-item\"><div class=\"sk-estimator sk-toggleable\"><input class=\"sk-toggleable__control sk-hidden--visually\" id=\"sk-estimator-id-1093\" type=\"checkbox\" ><label for=\"sk-estimator-id-1093\" class=\"sk-toggleable__label sk-toggleable__label-arrow\">ColumnSelector</label><div class=\"sk-toggleable__content\"><pre>ColumnSelector(columns=[&#x27;81&#x27;, &#x27;203&#x27;, &#x27;75&#x27;, &#x27;139&#x27;, &#x27;85&#x27;, &#x27;27&#x27;, &#x27;192&#x27;, &#x27;204&#x27;,\n",
       "                        &#x27;26&#x27;, &#x27;196&#x27;, &#x27;31&#x27;, &#x27;132&#x27;, &#x27;218&#x27;, &#x27;197&#x27;, &#x27;33&#x27;, &#x27;206&#x27;,\n",
       "                        &#x27;29&#x27;, &#x27;131&#x27;, &#x27;216&#x27;, &#x27;95&#x27;, &#x27;198&#x27;, &#x27;15&#x27;, &#x27;154&#x27;, &#x27;30&#x27;,\n",
       "                        &#x27;195&#x27;, &#x27;201&#x27;, &#x27;23&#x27;, &#x27;199&#x27;, &#x27;205&#x27;, &#x27;32&#x27;, ...])</pre></div></div></div><div class=\"sk-item sk-dashed-wrapped\"><div class=\"sk-label-container\"><div class=\"sk-label sk-toggleable\"><input class=\"sk-toggleable__control sk-hidden--visually\" id=\"sk-estimator-id-1094\" type=\"checkbox\" ><label for=\"sk-estimator-id-1094\" class=\"sk-toggleable__label sk-toggleable__label-arrow\">featureunion: FeatureUnion</label><div class=\"sk-toggleable__content\"><pre>FeatureUnion(transformer_list=[(&#x27;numeric_features&#x27;,\n",
       "                                Pipeline(steps=[(&#x27;columnselector&#x27;,\n",
       "                                                 ColumnSelector(columns=[&#x27;5&#x27;,\n",
       "                                                                         &#x27;161&#x27;,\n",
       "                                                                         &#x27;13&#x27;,\n",
       "                                                                         &#x27;150&#x27;,\n",
       "                                                                         &#x27;55&#x27;,\n",
       "                                                                         &#x27;152&#x27;,\n",
       "                                                                         &#x27;22&#x27;,\n",
       "                                                                         &#x27;185&#x27;,\n",
       "                                                                         &#x27;124&#x27;,\n",
       "                                                                         &#x27;72&#x27;,\n",
       "                                                                         &#x27;12&#x27;,\n",
       "                                                                         &#x27;64&#x27;,\n",
       "                                                                         &#x27;138&#x27;,\n",
       "                                                                         &#x27;86&#x27;,\n",
       "                                                                         &#x27;170&#x27;,\n",
       "                                                                         &#x27;229&#x27;,\n",
       "                                                                         &#x27;186&#x27;,\n",
       "                                                                         &#x27;96&#x27;,\n",
       "                                                                         &#x27;117&#x27;,\n",
       "                                                                         &#x27;126&#x27;,\n",
       "                                                                         &#x27;19&#x27;,\n",
       "                                                                         &#x27;120&#x27;,\n",
       "                                                                         &#x27;121&#x27;,\n",
       "                                                                         &#x27;165&#x27;,\n",
       "                                                                         &#x27;224&#x27;,\n",
       "                                                                         &#x27;61&#x27;,\n",
       "                                                                         &#x27;77&#x27;,\n",
       "                                                                         &#x27;166&#x27;,\n",
       "                                                                         &#x27;2&#x27;,\n",
       "                                                                         &#x27;208&#x27;, ...])),\n",
       "                                                (&#x27;simpleimputer&#x27;,\n",
       "                                                 SimpleImputer()),\n",
       "                                                (&#x27;standardscaler&#x27;,\n",
       "                                                 StandardScaler())...\n",
       "                                                                         &#x27;31&#x27;,\n",
       "                                                                         &#x27;132&#x27;,\n",
       "                                                                         &#x27;218&#x27;,\n",
       "                                                                         &#x27;197&#x27;,\n",
       "                                                                         &#x27;33&#x27;,\n",
       "                                                                         &#x27;206&#x27;,\n",
       "                                                                         &#x27;29&#x27;,\n",
       "                                                                         &#x27;131&#x27;,\n",
       "                                                                         &#x27;216&#x27;,\n",
       "                                                                         &#x27;95&#x27;,\n",
       "                                                                         &#x27;198&#x27;,\n",
       "                                                                         &#x27;15&#x27;,\n",
       "                                                                         &#x27;154&#x27;,\n",
       "                                                                         &#x27;30&#x27;,\n",
       "                                                                         &#x27;195&#x27;,\n",
       "                                                                         &#x27;201&#x27;,\n",
       "                                                                         &#x27;23&#x27;,\n",
       "                                                                         &#x27;199&#x27;,\n",
       "                                                                         &#x27;205&#x27;,\n",
       "                                                                         &#x27;32&#x27;,\n",
       "                                                                         &#x27;57&#x27;,\n",
       "                                                                         &#x27;202&#x27;,\n",
       "                                                                         &#x27;194&#x27;,\n",
       "                                                                         &#x27;vas_id&#x27;,\n",
       "                                                                         &#x27;24&#x27;, ...])),\n",
       "                                                (&#x27;simpleimputer&#x27;,\n",
       "                                                 SimpleImputer(strategy=&#x27;most_frequent&#x27;)),\n",
       "                                                (&#x27;onehotencoder&#x27;,\n",
       "                                                 OneHotEncoder(handle_unknown=&#x27;ignore&#x27;))])),\n",
       "                               (&#x27;boolean_features&#x27;,\n",
       "                                Pipeline(steps=[(&#x27;columnselector&#x27;,\n",
       "                                                 ColumnSelector(columns=[]))]))])</pre></div></div></div><div class=\"sk-parallel\"><div class=\"sk-parallel-item\"><div class=\"sk-item\"><div class=\"sk-label-container\"><div class=\"sk-label sk-toggleable\"><label>numeric_features</label></div></div><div class=\"sk-serial\"><div class=\"sk-item\"><div class=\"sk-serial\"><div class=\"sk-item\"><div class=\"sk-estimator sk-toggleable\"><input class=\"sk-toggleable__control sk-hidden--visually\" id=\"sk-estimator-id-1095\" type=\"checkbox\" ><label for=\"sk-estimator-id-1095\" class=\"sk-toggleable__label sk-toggleable__label-arrow\">ColumnSelector</label><div class=\"sk-toggleable__content\"><pre>ColumnSelector(columns=[&#x27;5&#x27;, &#x27;161&#x27;, &#x27;13&#x27;, &#x27;150&#x27;, &#x27;55&#x27;, &#x27;152&#x27;, &#x27;22&#x27;, &#x27;185&#x27;,\n",
       "                        &#x27;124&#x27;, &#x27;72&#x27;, &#x27;12&#x27;, &#x27;64&#x27;, &#x27;138&#x27;, &#x27;86&#x27;, &#x27;170&#x27;, &#x27;229&#x27;,\n",
       "                        &#x27;186&#x27;, &#x27;96&#x27;, &#x27;117&#x27;, &#x27;126&#x27;, &#x27;19&#x27;, &#x27;120&#x27;, &#x27;121&#x27;, &#x27;165&#x27;,\n",
       "                        &#x27;224&#x27;, &#x27;61&#x27;, &#x27;77&#x27;, &#x27;166&#x27;, &#x27;2&#x27;, &#x27;208&#x27;, ...])</pre></div></div></div><div class=\"sk-item\"><div class=\"sk-estimator sk-toggleable\"><input class=\"sk-toggleable__control sk-hidden--visually\" id=\"sk-estimator-id-1096\" type=\"checkbox\" ><label for=\"sk-estimator-id-1096\" class=\"sk-toggleable__label sk-toggleable__label-arrow\">SimpleImputer</label><div class=\"sk-toggleable__content\"><pre>SimpleImputer()</pre></div></div></div><div class=\"sk-item\"><div class=\"sk-estimator sk-toggleable\"><input class=\"sk-toggleable__control sk-hidden--visually\" id=\"sk-estimator-id-1097\" type=\"checkbox\" ><label for=\"sk-estimator-id-1097\" class=\"sk-toggleable__label sk-toggleable__label-arrow\">StandardScaler</label><div class=\"sk-toggleable__content\"><pre>StandardScaler()</pre></div></div></div><div class=\"sk-item\"><div class=\"sk-estimator sk-toggleable\"><input class=\"sk-toggleable__control sk-hidden--visually\" id=\"sk-estimator-id-1098\" type=\"checkbox\" ><label for=\"sk-estimator-id-1098\" class=\"sk-toggleable__label sk-toggleable__label-arrow\">PCA</label><div class=\"sk-toggleable__content\"><pre>PCA()</pre></div></div></div></div></div></div></div></div><div class=\"sk-parallel-item\"><div class=\"sk-item\"><div class=\"sk-label-container\"><div class=\"sk-label sk-toggleable\"><label>categorical_features</label></div></div><div class=\"sk-serial\"><div class=\"sk-item\"><div class=\"sk-serial\"><div class=\"sk-item\"><div class=\"sk-estimator sk-toggleable\"><input class=\"sk-toggleable__control sk-hidden--visually\" id=\"sk-estimator-id-1099\" type=\"checkbox\" ><label for=\"sk-estimator-id-1099\" class=\"sk-toggleable__label sk-toggleable__label-arrow\">ColumnSelector</label><div class=\"sk-toggleable__content\"><pre>ColumnSelector(columns=[&#x27;27&#x27;, &#x27;192&#x27;, &#x27;204&#x27;, &#x27;26&#x27;, &#x27;196&#x27;, &#x27;31&#x27;, &#x27;132&#x27;, &#x27;218&#x27;,\n",
       "                        &#x27;197&#x27;, &#x27;33&#x27;, &#x27;206&#x27;, &#x27;29&#x27;, &#x27;131&#x27;, &#x27;216&#x27;, &#x27;95&#x27;, &#x27;198&#x27;,\n",
       "                        &#x27;15&#x27;, &#x27;154&#x27;, &#x27;30&#x27;, &#x27;195&#x27;, &#x27;201&#x27;, &#x27;23&#x27;, &#x27;199&#x27;, &#x27;205&#x27;,\n",
       "                        &#x27;32&#x27;, &#x27;57&#x27;, &#x27;202&#x27;, &#x27;194&#x27;, &#x27;vas_id&#x27;, &#x27;24&#x27;, ...])</pre></div></div></div><div class=\"sk-item\"><div class=\"sk-estimator sk-toggleable\"><input class=\"sk-toggleable__control sk-hidden--visually\" id=\"sk-estimator-id-1100\" type=\"checkbox\" ><label for=\"sk-estimator-id-1100\" class=\"sk-toggleable__label sk-toggleable__label-arrow\">SimpleImputer</label><div class=\"sk-toggleable__content\"><pre>SimpleImputer(strategy=&#x27;most_frequent&#x27;)</pre></div></div></div><div class=\"sk-item\"><div class=\"sk-estimator sk-toggleable\"><input class=\"sk-toggleable__control sk-hidden--visually\" id=\"sk-estimator-id-1101\" type=\"checkbox\" ><label for=\"sk-estimator-id-1101\" class=\"sk-toggleable__label sk-toggleable__label-arrow\">OneHotEncoder</label><div class=\"sk-toggleable__content\"><pre>OneHotEncoder(handle_unknown=&#x27;ignore&#x27;)</pre></div></div></div></div></div></div></div></div><div class=\"sk-parallel-item\"><div class=\"sk-item\"><div class=\"sk-label-container\"><div class=\"sk-label sk-toggleable\"><label>boolean_features</label></div></div><div class=\"sk-serial\"><div class=\"sk-item\"><div class=\"sk-serial\"><div class=\"sk-item\"><div class=\"sk-estimator sk-toggleable\"><input class=\"sk-toggleable__control sk-hidden--visually\" id=\"sk-estimator-id-1102\" type=\"checkbox\" ><label for=\"sk-estimator-id-1102\" class=\"sk-toggleable__label sk-toggleable__label-arrow\">ColumnSelector</label><div class=\"sk-toggleable__content\"><pre>ColumnSelector(columns=[])</pre></div></div></div></div></div></div></div></div></div></div></div></div></div></div>"
      ],
      "text/plain": [
       "Pipeline(steps=[('columnselector',\n",
       "                 ColumnSelector(columns=['81', '203', '75', '139', '85', '27',\n",
       "                                         '192', '204', '26', '196', '31', '132',\n",
       "                                         '218', '197', '33', '206', '29', '131',\n",
       "                                         '216', '95', '198', '15', '154', '30',\n",
       "                                         '195', '201', '23', '199', '205', '32', ...])),\n",
       "                ('featureunion',\n",
       "                 FeatureUnion(transformer_list=[('numeric_features',\n",
       "                                                 Pipeline(steps=[('columnselector',\n",
       "                                                                  ColumnSelector(co...\n",
       "                                                                                          '132',\n",
       "                                                                                          '218',\n",
       "                                                                                          '197',\n",
       "                                                                                          '33',\n",
       "                                                                                          '206',\n",
       "                                                                                          '29',\n",
       "                                                                                          '131',\n",
       "                                                                                          '216',\n",
       "                                                                                          '95',\n",
       "                                                                                          '198',\n",
       "                                                                                          '15',\n",
       "                                                                                          '154',\n",
       "                                                                                          '30',\n",
       "                                                                                          '195',\n",
       "                                                                                          '201',\n",
       "                                                                                          '23',\n",
       "                                                                                          '199',\n",
       "                                                                                          '205',\n",
       "                                                                                          '32',\n",
       "                                                                                          '57',\n",
       "                                                                                          '202',\n",
       "                                                                                          '194',\n",
       "                                                                                          'vas_id',\n",
       "                                                                                          '24', ...])),\n",
       "                                                                 ('simpleimputer',\n",
       "                                                                  SimpleImputer(strategy='most_frequent')),\n",
       "                                                                 ('onehotencoder',\n",
       "                                                                  OneHotEncoder(handle_unknown='ignore'))])),\n",
       "                                                ('boolean_features',\n",
       "                                                 Pipeline(steps=[('columnselector',\n",
       "                                                                  ColumnSelector(columns=[]))]))]))])"
      ]
     },
     "execution_count": 140,
     "metadata": {},
     "output_type": "execute_result"
    }
   ],
   "source": [
    "f_prep_pipeline.fit(X_train)"
   ]
  },
  {
   "cell_type": "markdown",
   "id": "c1fd911e",
   "metadata": {},
   "source": [
    "#### GridSearchCV"
   ]
  },
  {
   "cell_type": "code",
   "execution_count": 113,
   "id": "1dea0116",
   "metadata": {},
   "outputs": [],
   "source": [
    "def run_grid_search(estimator, X, y, params_grid, cv, scoring='roc_auc'):\n",
    "    gsc = GridSearchCV(estimator, params_grid, scoring=scoring, cv=cv, n_jobs=3)\n",
    "\n",
    "    gsc.fit(X, y)\n",
    "    print('Best %s score: %.2f' % (scoring, gsc.best_score_))\n",
    "    print()\n",
    "    print('Best parameters set found on development set:')\n",
    "    print()\n",
    "    print(gsc.best_params_)\n",
    "    print()\n",
    "    print('Grid scores on development set:')\n",
    "    print()\n",
    "\n",
    "    for i, params in enumerate(gsc.cv_results_['params']):\n",
    "        print('%0.3f (+/-%0.03f) for %r'\n",
    "              % (gsc.cv_results_['mean_test_score'][i], gsc.cv_results_['std_test_score'][i] * 2, params))\n",
    "\n",
    "    print()\n",
    "    \n",
    "    return gsc"
   ]
  },
  {
   "cell_type": "code",
   "execution_count": 102,
   "id": "d44becb2",
   "metadata": {},
   "outputs": [],
   "source": [
    "kfold_cv = KFold(n_splits=3, shuffle=True, random_state=RANDOM_STATE)"
   ]
  },
  {
   "cell_type": "markdown",
   "id": "9c5a3106",
   "metadata": {},
   "source": [
    "#### Логистическая регрессия"
   ]
  },
  {
   "cell_type": "code",
   "execution_count": 141,
   "id": "e1b760e5",
   "metadata": {},
   "outputs": [],
   "source": [
    "lg_pipe = make_pipeline(\n",
    "    f_prep_pipeline,\n",
    "    LogisticRegression(random_state=RANDOM_STATE, solver='newton-cholesky')\n",
    ")"
   ]
  },
  {
   "cell_type": "code",
   "execution_count": 142,
   "id": "feea1988",
   "metadata": {
    "scrolled": true
   },
   "outputs": [
    {
     "name": "stdout",
     "output_type": "stream",
     "text": [
      "Best roc_auc score: 0.86\n",
      "\n",
      "Best parameters set found on development set:\n",
      "\n",
      "{'logisticregression__penalty': 'l2'}\n",
      "\n",
      "Grid scores on development set:\n",
      "\n",
      "nan (+/-nan) for {'logisticregression__penalty': 'l1'}\n",
      "0.858 (+/-0.004) for {'logisticregression__penalty': 'l2'}\n",
      "\n",
      "CPU times: user 1min 26s, sys: 3.41 s, total: 1min 29s\n",
      "Wall time: 4min 3s\n"
     ]
    }
   ],
   "source": [
    "%%time\n",
    "\n",
    "param_grid = {\n",
    "    'logisticregression__penalty': ['l1', 'l2']\n",
    "}\n",
    "\n",
    "lg_gsc = run_grid_search(lg_pipe, X_train, y_train, param_grid, kfold_cv)"
   ]
  },
  {
   "cell_type": "code",
   "execution_count": 143,
   "id": "dd3cf696",
   "metadata": {},
   "outputs": [],
   "source": [
    "lg_pipe = make_pipeline(\n",
    "    f_prep_pipeline,\n",
    "    SelectFromModel(LogisticRegression(penalty='l2', random_state=RANDOM_STATE, solver='newton-cholesky'), \\\n",
    "                            threshold=1e-5),\n",
    "    LogisticRegression(random_state=RANDOM_STATE, solver='newton-cholesky')\n",
    ")"
   ]
  },
  {
   "cell_type": "code",
   "execution_count": 144,
   "id": "84a2a331",
   "metadata": {
    "scrolled": true
   },
   "outputs": [
    {
     "name": "stdout",
     "output_type": "stream",
     "text": [
      "Best roc_auc score: 0.86\n",
      "\n",
      "Best parameters set found on development set:\n",
      "\n",
      "{'selectfrommodel__threshold': 1e-05}\n",
      "\n",
      "Grid scores on development set:\n",
      "\n",
      "0.848 (+/-0.006) for {'selectfrommodel__max_features': 50, 'selectfrommodel__threshold': -inf}\n",
      "0.854 (+/-0.004) for {'selectfrommodel__max_features': 100, 'selectfrommodel__threshold': -inf}\n",
      "0.857 (+/-0.003) for {'selectfrommodel__max_features': 150, 'selectfrommodel__threshold': -inf}\n",
      "0.858 (+/-0.004) for {'selectfrommodel__threshold': 1e-05}\n",
      "\n",
      "CPU times: user 2min 53s, sys: 6.98 s, total: 3min\n",
      "Wall time: 19min 29s\n"
     ]
    }
   ],
   "source": [
    "%%time\n",
    "\n",
    "param_grid = [\n",
    "    {'selectfrommodel__max_features': [50, 100, 150], 'selectfrommodel__threshold': [-np.inf]},\n",
    "    {'selectfrommodel__threshold': [1e-5]},\n",
    "]\n",
    "\n",
    "lg_fs_gsc = run_grid_search(lg_pipe, X_train, y_train, param_grid, kfold_cv)"
   ]
  },
  {
   "cell_type": "markdown",
   "id": "74e2c5bc",
   "metadata": {},
   "source": [
    "Оценка по сравнению с полным набором не велика. Можно оставить только 150 фич для обучения."
   ]
  },
  {
   "cell_type": "markdown",
   "id": "922da6d4",
   "metadata": {},
   "source": [
    "#### RandomForestClassifier"
   ]
  },
  {
   "cell_type": "code",
   "execution_count": 146,
   "id": "28e60565",
   "metadata": {},
   "outputs": [],
   "source": [
    "rfc_fs_pipe = make_pipeline(\n",
    "    f_prep_pipeline,\n",
    "    SelectFromModel(LogisticRegression(penalty='l2', random_state=RANDOM_STATE, solver='newton-cholesky'),\\\n",
    "                    max_features=150, threshold=-np.inf),\n",
    "    RandomForestClassifier(random_state=RANDOM_STATE)\n",
    ")"
   ]
  },
  {
   "cell_type": "code",
   "execution_count": 147,
   "id": "eeaf08e2",
   "metadata": {
    "scrolled": true
   },
   "outputs": [
    {
     "name": "stdout",
     "output_type": "stream",
     "text": [
      "Best roc_auc score: 0.85\n",
      "\n",
      "Best parameters set found on development set:\n",
      "\n",
      "{'randomforestclassifier__max_depth': 5, 'randomforestclassifier__n_estimators': 100}\n",
      "\n",
      "Grid scores on development set:\n",
      "\n",
      "0.803 (+/-0.049) for {'randomforestclassifier__max_depth': 1, 'randomforestclassifier__n_estimators': 10}\n",
      "0.844 (+/-0.005) for {'randomforestclassifier__max_depth': 1, 'randomforestclassifier__n_estimators': 100}\n",
      "0.845 (+/-0.007) for {'randomforestclassifier__max_depth': 5, 'randomforestclassifier__n_estimators': 10}\n",
      "0.848 (+/-0.003) for {'randomforestclassifier__max_depth': 5, 'randomforestclassifier__n_estimators': 100}\n",
      "\n",
      "CPU times: user 2min 3s, sys: 4.2 s, total: 2min 7s\n",
      "Wall time: 13min 42s\n"
     ]
    }
   ],
   "source": [
    "%%time\n",
    "\n",
    "param_grid = {\n",
    "    'randomforestclassifier__max_depth': [1, 5],\n",
    "    'randomforestclassifier__n_estimators': [10, 100]\n",
    "}\n",
    "\n",
    "rfc_fs_gsc = run_grid_search(rfc_fs_pipe, X_train, y_train, param_grid, kfold_cv)"
   ]
  },
  {
   "cell_type": "markdown",
   "id": "23eb3b12",
   "metadata": {},
   "source": [
    "#### GradientBoostingClassifier"
   ]
  },
  {
   "cell_type": "code",
   "execution_count": 148,
   "id": "5a2e5784",
   "metadata": {},
   "outputs": [],
   "source": [
    "gb_fs_pipe = make_pipeline(\n",
    "    f_prep_pipeline,\n",
    "    SelectFromModel(LogisticRegression(penalty='l2', random_state=RANDOM_STATE, solver='newton-cholesky'), \\\n",
    "                    max_features=150, threshold=-np.inf),\n",
    "    GradientBoostingClassifier(random_state=RANDOM_STATE)\n",
    ")"
   ]
  },
  {
   "cell_type": "code",
   "execution_count": 156,
   "id": "01c8433f",
   "metadata": {},
   "outputs": [
    {
     "name": "stdout",
     "output_type": "stream",
     "text": [
      "Best roc_auc score: 0.86\n",
      "\n",
      "Best parameters set found on development set:\n",
      "\n",
      "{'gradientboostingclassifier__max_depth': 5, 'gradientboostingclassifier__n_estimators': 100}\n",
      "\n",
      "Grid scores on development set:\n",
      "\n",
      "0.831 (+/-0.004) for {'gradientboostingclassifier__max_depth': 1, 'gradientboostingclassifier__n_estimators': 10}\n",
      "0.843 (+/-0.006) for {'gradientboostingclassifier__max_depth': 1, 'gradientboostingclassifier__n_estimators': 100}\n",
      "0.850 (+/-0.005) for {'gradientboostingclassifier__max_depth': 5, 'gradientboostingclassifier__n_estimators': 10}\n",
      "0.860 (+/-0.004) for {'gradientboostingclassifier__max_depth': 5, 'gradientboostingclassifier__n_estimators': 100}\n",
      "\n",
      "CPU times: user 12min 41s, sys: 15.3 s, total: 12min 57s\n",
      "Wall time: 6h 48min 8s\n"
     ]
    }
   ],
   "source": [
    "%%time\n",
    "\n",
    "param_grid = {\n",
    "    'gradientboostingclassifier__max_depth': [1, 5],\n",
    "    'gradientboostingclassifier__n_estimators': [10, 100]\n",
    "}\n",
    "\n",
    "gb_fs_gsc = run_grid_search(gb_fs_pipe, X_train, y_train, param_grid, kfold_cv)"
   ]
  },
  {
   "cell_type": "markdown",
   "id": "be3d3834",
   "metadata": {},
   "source": [
    "### Оценка моделей на тестовой выборке"
   ]
  },
  {
   "cell_type": "markdown",
   "id": "ff6be626",
   "metadata": {},
   "source": [
    "LogisticRegression"
   ]
  },
  {
   "cell_type": "code",
   "execution_count": 151,
   "id": "250ebe5c",
   "metadata": {},
   "outputs": [],
   "source": [
    "lg_fs_pipe_final = lg_fs_gsc.best_estimator_\n",
    "\n",
    "lg_fs_pipe_final.fit(X_train, y_train)\n",
    "\n",
    "lg_fs_pred = lg_fs_pipe_final.predict_proba(X_val)[:, 1]"
   ]
  },
  {
   "cell_type": "code",
   "execution_count": 153,
   "id": "acbbc5eb",
   "metadata": {},
   "outputs": [
    {
     "name": "stdout",
     "output_type": "stream",
     "text": [
      "              precision    recall  f1-score   support\n",
      "\n",
      "         0.0       0.98      0.87      0.92    231378\n",
      "         1.0       0.32      0.79      0.46     18118\n",
      "\n",
      "    accuracy                           0.86    249496\n",
      "   macro avg       0.65      0.83      0.69    249496\n",
      "weighted avg       0.93      0.86      0.89    249496\n",
      "\n"
     ]
    }
   ],
   "source": [
    "print(classification_report(y_val, lg_fs_pred > 0.5))"
   ]
  },
  {
   "cell_type": "markdown",
   "id": "f34c4c2b",
   "metadata": {},
   "source": [
    "RandomForestClassifier"
   ]
  },
  {
   "cell_type": "code",
   "execution_count": 157,
   "id": "19c27ef2",
   "metadata": {},
   "outputs": [],
   "source": [
    "rfc_fs_pipe_final = rfc_fs_gsc.best_estimator_\n",
    "\n",
    "rfc_fs_pipe_final.fit(X_train, y_train)\n",
    "\n",
    "rfc_fs_pred = rfc_fs_pipe_final.predict_proba(X_val)[:, 1]"
   ]
  },
  {
   "cell_type": "code",
   "execution_count": 158,
   "id": "aaee8003",
   "metadata": {},
   "outputs": [
    {
     "name": "stdout",
     "output_type": "stream",
     "text": [
      "              precision    recall  f1-score   support\n",
      "\n",
      "         0.0       0.98      0.87      0.92    231378\n",
      "         1.0       0.32      0.79      0.46     18118\n",
      "\n",
      "    accuracy                           0.86    249496\n",
      "   macro avg       0.65      0.83      0.69    249496\n",
      "weighted avg       0.93      0.86      0.89    249496\n",
      "\n"
     ]
    }
   ],
   "source": [
    "print(classification_report(y_val, rfc_fs_pred > 0.5))"
   ]
  },
  {
   "cell_type": "markdown",
   "id": "d6f64f6d",
   "metadata": {},
   "source": [
    "GradientBoostingClassifier"
   ]
  },
  {
   "cell_type": "code",
   "execution_count": 159,
   "id": "5e1371e2",
   "metadata": {},
   "outputs": [],
   "source": [
    "gb_fs_pipe_final = gb_fs_gsc.best_estimator_\n",
    "\n",
    "gb_fs_pipe_final.fit(X_train, y_train)\n",
    "\n",
    "gb_fs_pred = gb_fs_pipe_final.predict_proba(X_val)[:, 1]"
   ]
  },
  {
   "cell_type": "code",
   "execution_count": 165,
   "id": "cf9078cf",
   "metadata": {},
   "outputs": [
    {
     "name": "stdout",
     "output_type": "stream",
     "text": [
      "              precision    recall  f1-score   support\n",
      "\n",
      "         0.0       0.98      0.87      0.92    231378\n",
      "         1.0       0.32      0.79      0.46     18118\n",
      "\n",
      "    accuracy                           0.86    249496\n",
      "   macro avg       0.65      0.83      0.69    249496\n",
      "weighted avg       0.93      0.86      0.89    249496\n",
      "\n"
     ]
    }
   ],
   "source": [
    "print(classification_report(y_val, gb_fs_pred > 0.5))"
   ]
  },
  {
   "cell_type": "markdown",
   "id": "ec64c895",
   "metadata": {},
   "source": [
    "### Сравнение моделей"
   ]
  },
  {
   "cell_type": "code",
   "execution_count": 168,
   "id": "a8cedd8c",
   "metadata": {
    "scrolled": false
   },
   "outputs": [
    {
     "name": "stdout",
     "output_type": "stream",
     "text": [
      "lg_fs_pred: AUC_PR = 0.357\n",
      "lg_fs_pred: AUC_ROC = 0.860\n",
      "rfc_fs_pred: AUC_PR = 0.348\n",
      "rfc_fs_pred: AUC_ROC = 0.850\n",
      "gb_fs_pred: AUC_PR = 0.361\n",
      "gb_fs_pred: AUC_ROC = 0.863\n"
     ]
    },
    {
     "data": {
      "image/png": "[encoded data removed]",
      "text/plain": [
       "<Figure size 1200x2400 with 2 Axes>"
      ]
     },
     "metadata": {},
     "output_type": "display_data"
    }
   ],
   "source": [
    "f, (ax1, ax2) = plt.subplots(1, 2, sharey=True)\n",
    "\n",
    "f.set_figheight(24)\n",
    "f.set_figwidth(12)\n",
    "\n",
    "ax1 = plt.subplot(211)\n",
    "ax1.set_title('ROC')\n",
    "ax1.set_xlabel('TPR')\n",
    "ax1.set_ylabel('FPR')\n",
    "\n",
    "ax2 = plt.subplot(212)\n",
    "ax2.set_title('PR')\n",
    "ax2.set_xlabel('Recall')\n",
    "ax2.set_ylabel('Precision')\n",
    "\n",
    "ax1.plot([0, 1], [0, 1], 'k--')\n",
    "\n",
    "fpr, tpr, roc_thresholds = roc_curve(y_val, lg_fs_pred)\n",
    "precision, recall, pr_thresholds = precision_recall_curve(y_val, lg_fs_pred)\n",
    "ax1.plot(fpr, tpr, label='lg_fs_pred', color='b')\n",
    "ax2.plot(recall, precision, label='lg_fs_pred', color='b')\n",
    "print('lg_fs_pred: AUC_PR = %.3f' % auc(recall, precision))\n",
    "print('lg_fs_pred: AUC_ROC = %.3f' % auc(fpr, tpr))\n",
    "\n",
    "fpr, tpr, roc_thresholds = roc_curve(y_val, rfc_fs_pred)\n",
    "precision, recall, pr_thresholds = precision_recall_curve(y_val, rfc_fs_pred)\n",
    "ax1.plot(fpr, tpr, label='gb_fs_pred', color='g')\n",
    "ax2.plot(recall, precision, label='gb_fs_pred', color='g')\n",
    "print('rfc_fs_pred: AUC_PR = %.3f' % auc(recall, precision))\n",
    "print('rfc_fs_pred: AUC_ROC = %.3f' % auc(fpr, tpr))\n",
    "\n",
    "fpr, tpr, roc_thresholds = roc_curve(y_val, gb_fs_pred)\n",
    "precision, recall, pr_thresholds = precision_recall_curve(y_val, gb_fs_pred)\n",
    "ax1.plot(fpr, tpr, label='cb_fs_pred', color='purple')\n",
    "ax2.plot(recall, precision, label='cb_fs_pred', color='purple')\n",
    "print('gb_fs_pred: AUC_PR = %.3f' % auc(recall, precision))\n",
    "print('gb_fs_pred: AUC_ROC = %.3f' % auc(fpr, tpr))\n",
    "\n",
    "ax1.legend(loc='lower right')\n",
    "ax2.legend(loc='lower right');"
   ]
  },
  {
   "cell_type": "markdown",
   "id": "75e91bd6",
   "metadata": {},
   "source": [
    "исходя из значений ROC_AUC выберем модель Градиентный бустинг"
   ]
  },
  {
   "cell_type": "code",
   "execution_count": 169,
   "id": "c3d542ef",
   "metadata": {},
   "outputs": [],
   "source": [
    "def plot_confusion_matrix(cm, classes,\n",
    "                          model_name='',\n",
    "                          normalize=False,\n",
    "                          cmap=plt.cm.Blues):\n",
    "    \"\"\"\n",
    "    This function prints and plots the confusion matrix.\n",
    "    Normalization can be applied by setting `normalize=True`.\n",
    "    \"\"\"\n",
    "    if normalize:\n",
    "        cm = cm.astype('float') / cm.sum(axis=1)[:, np.newaxis]\n",
    "        print('Normalized confusion matrix')\n",
    "    else:\n",
    "        print('Confusion matrix, without normalization')\n",
    "\n",
    "    print(cm)\n",
    "\n",
    "    plt.imshow(cm, interpolation='nearest',  cmap=cmap)\n",
    "    \n",
    "    plt.grid(False)\n",
    "    plt.title('%s: confusion matrix' % model_name)\n",
    "    tick_marks = np.arange(len(classes))\n",
    "    plt.xticks(tick_marks, classes, rotation=45)\n",
    "    plt.yticks(tick_marks, classes)\n",
    "\n",
    "    fmt = '.2f' if normalize else 'd'\n",
    "    thresh = cm.max() / 2.\n",
    "    for i, j in itertools.product(range(cm.shape[0]), range(cm.shape[1])):\n",
    "        plt.text(j, i, format(cm[i, j], fmt),\n",
    "                 horizontalalignment=\"center\",\n",
    "                 color='white' if cm[i, j] > thresh else 'black')\n",
    "\n",
    "    plt.ylabel('True label')\n",
    "    plt.xlabel('Predicted label')\n",
    "    plt.tight_layout()"
   ]
  },
  {
   "cell_type": "code",
   "execution_count": 170,
   "id": "b9aeeb4d",
   "metadata": {},
   "outputs": [
    {
     "name": "stdout",
     "output_type": "stream",
     "text": [
      "Confusion matrix, without normalization\n",
      "[[201014  30364]\n",
      " [  3778  14340]]\n"
     ]
    },
    {
     "data": {
      "image/png": "[encoded data removed]",
      "text/plain": [
       "<Figure size 640x480 with 1 Axes>"
      ]
     },
     "metadata": {},
     "output_type": "display_data"
    }
   ],
   "source": [
    "\n",
    "\n",
    "cm = confusion_matrix(y_val, gb_fs_pred > 0.5)\n",
    "plot_confusion_matrix(cm, classes=['0', '1'], model_name='GradientBoosting');\n",
    "\n"
   ]
  },
  {
   "cell_type": "markdown",
   "id": "07e016b6",
   "metadata": {},
   "source": [
    "#### Сохранине модели"
   ]
  },
  {
   "cell_type": "code",
   "execution_count": 172,
   "id": "bdbc9dd3",
   "metadata": {},
   "outputs": [],
   "source": [
    "with open('gb_classifier_model.pickle', 'wb') as f:\n",
    "    pickle.dump(gb_fs_pipe_final, f, protocol=pickle.HIGHEST_PROTOCOL)"
   ]
  }
 ],
 "metadata": {
  "kernelspec": {
   "display_name": "ml_3_9",
   "language": "python",
   "name": "ml_3_9"
  },
  "language_info": {
   "codemirror_mode": {
    "name": "ipython",
    "version": 3
   },
   "file_extension": ".py",
   "mimetype": "text/x-python",
   "name": "python",
   "nbconvert_exporter": "python",
   "pygments_lexer": "ipython3",
   "version": "3.9.15"
  }
 },
 "nbformat": 4,
 "nbformat_minor": 5
}
